{
 "cells": [
  {
   "cell_type": "code",
   "execution_count": null,
   "id": "d4f4b6b7",
   "metadata": {},
   "outputs": [
    {
     "data": {
      "application/vnd.jupyter.widget-view+json": {
       "model_id": "366a863f2ccc407193e6074eba905b3f",
       "version_major": 2,
       "version_minor": 0
      },
      "text/plain": [
       "Filter:   0%|          | 0/12224 [00:00<?, ? examples/s]"
      ]
     },
     "metadata": {},
     "output_type": "display_data"
    }
   ],
   "source": [
    "# cosmus_eval_major_label.py\n",
    "from datasets import load_dataset\n",
    "from sklearn.metrics import accuracy_score, classification_report\n",
    "import pandas as pd\n",
    "from transformers import pipeline\n",
    "\n",
    "# -------------------------------------------------------------------- #\n",
    "# 1.  Load the COSMUS dataset (Telegram RU/UA posts)                   #\n",
    "# -------------------------------------------------------------------- #\n",
    "ds = load_dataset(\"YShynkarov/COSMUS\", split=\"train\") \n",
    "ds = ds.filter(lambda x: x[\"annotator_sentiment\"] != \"mixed\")\n",
    "df = ds.to_pandas()[[\"document_content\", \"annotator_sentiment\", \"language\"]]\n"
   ]
  },
  {
   "cell_type": "code",
   "execution_count": 44,
   "id": "e0f620aa",
   "metadata": {},
   "outputs": [
    {
     "data": {
      "text/html": [
       "<div>\n",
       "<style scoped>\n",
       "    .dataframe tbody tr th:only-of-type {\n",
       "        vertical-align: middle;\n",
       "    }\n",
       "\n",
       "    .dataframe tbody tr th {\n",
       "        vertical-align: top;\n",
       "    }\n",
       "\n",
       "    .dataframe thead th {\n",
       "        text-align: right;\n",
       "    }\n",
       "</style>\n",
       "<table border=\"1\" class=\"dataframe\">\n",
       "  <thead>\n",
       "    <tr style=\"text-align: right;\">\n",
       "      <th></th>\n",
       "      <th>document_content</th>\n",
       "      <th>annotator_sentiment</th>\n",
       "      <th>language</th>\n",
       "    </tr>\n",
       "  </thead>\n",
       "  <tbody>\n",
       "    <tr>\n",
       "      <th>0</th>\n",
       "      <td>⚡️Українська делегація відправилася на перемов...</td>\n",
       "      <td>neutral</td>\n",
       "      <td>ua</td>\n",
       "    </tr>\n",
       "    <tr>\n",
       "      <th>1</th>\n",
       "      <td>Вибухи на Одещині, попередньо — ППО.</td>\n",
       "      <td>neutral</td>\n",
       "      <td>ua</td>\n",
       "    </tr>\n",
       "    <tr>\n",
       "      <th>2</th>\n",
       "      <td>А что делать тем ,кто лишился своего жилья ,по...</td>\n",
       "      <td>negative</td>\n",
       "      <td>ru</td>\n",
       "    </tr>\n",
       "    <tr>\n",
       "      <th>3</th>\n",
       "      <td>Тогда учись быстро бегать. Для меня вопрос сло...</td>\n",
       "      <td>negative</td>\n",
       "      <td>ru</td>\n",
       "    </tr>\n",
       "    <tr>\n",
       "      <th>4</th>\n",
       "      <td>Добрий день</td>\n",
       "      <td>neutral</td>\n",
       "      <td>ua</td>\n",
       "    </tr>\n",
       "    <tr>\n",
       "      <th>...</th>\n",
       "      <td>...</td>\n",
       "      <td>...</td>\n",
       "      <td>...</td>\n",
       "    </tr>\n",
       "    <tr>\n",
       "      <th>11611</th>\n",
       "      <td>У меня три окна и двери выбило , даже и не дум...</td>\n",
       "      <td>negative</td>\n",
       "      <td>ru</td>\n",
       "    </tr>\n",
       "    <tr>\n",
       "      <th>11612</th>\n",
       "      <td>Краще \"повинна бути зручнішою, ніж Uber чи Boo...</td>\n",
       "      <td>negative</td>\n",
       "      <td>ua</td>\n",
       "    </tr>\n",
       "    <tr>\n",
       "      <th>11613</th>\n",
       "      <td>Питання, цей сертифікат можна вже використовув...</td>\n",
       "      <td>neutral</td>\n",
       "      <td>ua</td>\n",
       "    </tr>\n",
       "    <tr>\n",
       "      <th>11614</th>\n",
       "      <td>На Вугледарському напрямку загинув Рома Іванен...</td>\n",
       "      <td>negative</td>\n",
       "      <td>ua</td>\n",
       "    </tr>\n",
       "    <tr>\n",
       "      <th>11615</th>\n",
       "      <td>*_Управление «УКРАИНЫ» и «РФ» захвачено иудеям...</td>\n",
       "      <td>negative</td>\n",
       "      <td>mixed</td>\n",
       "    </tr>\n",
       "  </tbody>\n",
       "</table>\n",
       "<p>11616 rows × 3 columns</p>\n",
       "</div>"
      ],
      "text/plain": [
       "                                        document_content annotator_sentiment  \\\n",
       "0      ⚡️Українська делегація відправилася на перемов...             neutral   \n",
       "1                   Вибухи на Одещині, попередньо — ППО.             neutral   \n",
       "2      А что делать тем ,кто лишился своего жилья ,по...            negative   \n",
       "3      Тогда учись быстро бегать. Для меня вопрос сло...            negative   \n",
       "4                                            Добрий день             neutral   \n",
       "...                                                  ...                 ...   \n",
       "11611  У меня три окна и двери выбило , даже и не дум...            negative   \n",
       "11612  Краще \"повинна бути зручнішою, ніж Uber чи Boo...            negative   \n",
       "11613  Питання, цей сертифікат можна вже використовув...             neutral   \n",
       "11614  На Вугледарському напрямку загинув Рома Іванен...            negative   \n",
       "11615  *_Управление «УКРАИНЫ» и «РФ» захвачено иудеям...            negative   \n",
       "\n",
       "      language  \n",
       "0           ua  \n",
       "1           ua  \n",
       "2           ru  \n",
       "3           ru  \n",
       "4           ua  \n",
       "...        ...  \n",
       "11611       ru  \n",
       "11612       ua  \n",
       "11613       ua  \n",
       "11614       ua  \n",
       "11615    mixed  \n",
       "\n",
       "[11616 rows x 3 columns]"
      ]
     },
     "execution_count": 44,
     "metadata": {},
     "output_type": "execute_result"
    }
   ],
   "source": [
    "df"
   ]
  },
  {
   "cell_type": "code",
   "execution_count": 31,
   "id": "9859b898",
   "metadata": {},
   "outputs": [
    {
     "data": {
      "text/plain": [
       "'Бажаю удачі тим, хто цього потребує.'"
      ]
     },
     "execution_count": 31,
     "metadata": {},
     "output_type": "execute_result"
    }
   ],
   "source": [
    "df['document_content'].iloc[5]"
   ]
  },
  {
   "cell_type": "code",
   "execution_count": null,
   "id": "001a72af",
   "metadata": {},
   "outputs": [
    {
     "data": {
      "text/plain": [
       "'Я розумію. Але ви хоч уявляєте, скільки часу на це піде? І не буде там великої суми, бо рахуватимуть тільки вартість \"коробки\". Опис майна \"до\" ніхто не робив.'"
      ]
     },
     "execution_count": 5,
     "metadata": {},
     "output_type": "execute_result"
    }
   ],
   "source": []
  },
  {
   "cell_type": "code",
   "execution_count": null,
   "id": "4c1987db",
   "metadata": {},
   "outputs": [],
   "source": []
  },
  {
   "cell_type": "code",
   "execution_count": 45,
   "id": "428d1127",
   "metadata": {},
   "outputs": [],
   "source": [
    "\n",
    "# Gold labels → integers\n",
    "label2id = {\"negative\": -1, \"neutral\": 0, \"positive\": 1}\n",
    "df[\"annotator_sentiment\"] = df[\"annotator_sentiment\"].map(label2id)\n"
   ]
  },
  {
   "cell_type": "code",
   "execution_count": 33,
   "id": "b4cf550f",
   "metadata": {},
   "outputs": [
    {
     "data": {
      "text/html": [
       "<div>\n",
       "<style scoped>\n",
       "    .dataframe tbody tr th:only-of-type {\n",
       "        vertical-align: middle;\n",
       "    }\n",
       "\n",
       "    .dataframe tbody tr th {\n",
       "        vertical-align: top;\n",
       "    }\n",
       "\n",
       "    .dataframe thead th {\n",
       "        text-align: right;\n",
       "    }\n",
       "</style>\n",
       "<table border=\"1\" class=\"dataframe\">\n",
       "  <thead>\n",
       "    <tr style=\"text-align: right;\">\n",
       "      <th></th>\n",
       "      <th>document_content</th>\n",
       "      <th>annotator_sentiment</th>\n",
       "      <th>language</th>\n",
       "    </tr>\n",
       "  </thead>\n",
       "  <tbody>\n",
       "    <tr>\n",
       "      <th>0</th>\n",
       "      <td>⚡️Українська делегація відправилася на перемов...</td>\n",
       "      <td>0.0</td>\n",
       "      <td>ua</td>\n",
       "    </tr>\n",
       "    <tr>\n",
       "      <th>1</th>\n",
       "      <td>Вибухи на Одещині, попередньо — ППО.</td>\n",
       "      <td>0.0</td>\n",
       "      <td>ua</td>\n",
       "    </tr>\n",
       "    <tr>\n",
       "      <th>2</th>\n",
       "      <td>А что делать тем ,кто лишился своего жилья ,по...</td>\n",
       "      <td>-1.0</td>\n",
       "      <td>ru</td>\n",
       "    </tr>\n",
       "    <tr>\n",
       "      <th>3</th>\n",
       "      <td>Тогда учись быстро бегать. Для меня вопрос сло...</td>\n",
       "      <td>-1.0</td>\n",
       "      <td>ru</td>\n",
       "    </tr>\n",
       "    <tr>\n",
       "      <th>4</th>\n",
       "      <td>Добрий день</td>\n",
       "      <td>0.0</td>\n",
       "      <td>ua</td>\n",
       "    </tr>\n",
       "    <tr>\n",
       "      <th>...</th>\n",
       "      <td>...</td>\n",
       "      <td>...</td>\n",
       "      <td>...</td>\n",
       "    </tr>\n",
       "    <tr>\n",
       "      <th>12218</th>\n",
       "      <td>У меня три окна и двери выбило , даже и не дум...</td>\n",
       "      <td>-1.0</td>\n",
       "      <td>ru</td>\n",
       "    </tr>\n",
       "    <tr>\n",
       "      <th>12219</th>\n",
       "      <td>Краще \"повинна бути зручнішою, ніж Uber чи Boo...</td>\n",
       "      <td>-1.0</td>\n",
       "      <td>ua</td>\n",
       "    </tr>\n",
       "    <tr>\n",
       "      <th>12221</th>\n",
       "      <td>Питання, цей сертифікат можна вже використовув...</td>\n",
       "      <td>0.0</td>\n",
       "      <td>ua</td>\n",
       "    </tr>\n",
       "    <tr>\n",
       "      <th>12222</th>\n",
       "      <td>На Вугледарському напрямку загинув Рома Іванен...</td>\n",
       "      <td>-1.0</td>\n",
       "      <td>ua</td>\n",
       "    </tr>\n",
       "    <tr>\n",
       "      <th>12223</th>\n",
       "      <td>*_Управление «УКРАИНЫ» и «РФ» захвачено иудеям...</td>\n",
       "      <td>-1.0</td>\n",
       "      <td>mixed</td>\n",
       "    </tr>\n",
       "  </tbody>\n",
       "</table>\n",
       "<p>11616 rows × 3 columns</p>\n",
       "</div>"
      ],
      "text/plain": [
       "                                        document_content  annotator_sentiment  \\\n",
       "0      ⚡️Українська делегація відправилася на перемов...                  0.0   \n",
       "1                   Вибухи на Одещині, попередньо — ППО.                  0.0   \n",
       "2      А что делать тем ,кто лишился своего жилья ,по...                 -1.0   \n",
       "3      Тогда учись быстро бегать. Для меня вопрос сло...                 -1.0   \n",
       "4                                            Добрий день                  0.0   \n",
       "...                                                  ...                  ...   \n",
       "12218  У меня три окна и двери выбило , даже и не дум...                 -1.0   \n",
       "12219  Краще \"повинна бути зручнішою, ніж Uber чи Boo...                 -1.0   \n",
       "12221  Питання, цей сертифікат можна вже використовув...                  0.0   \n",
       "12222  На Вугледарському напрямку загинув Рома Іванен...                 -1.0   \n",
       "12223  *_Управление «УКРАИНЫ» и «РФ» захвачено иудеям...                 -1.0   \n",
       "\n",
       "      language  \n",
       "0           ua  \n",
       "1           ua  \n",
       "2           ru  \n",
       "3           ru  \n",
       "4           ua  \n",
       "...        ...  \n",
       "12218       ru  \n",
       "12219       ua  \n",
       "12221       ua  \n",
       "12222       ua  \n",
       "12223    mixed  \n",
       "\n",
       "[11616 rows x 3 columns]"
      ]
     },
     "execution_count": 33,
     "metadata": {},
     "output_type": "execute_result"
    }
   ],
   "source": [
    "df = df.dropna()\n",
    "df"
   ]
  },
  {
   "cell_type": "code",
   "execution_count": null,
   "id": "9c25fdc6",
   "metadata": {},
   "outputs": [
    {
     "name": "stderr",
     "output_type": "stream",
     "text": [
      "Device set to use mps:0\n"
     ]
    }
   ],
   "source": [
    "# -------------------------------------------------------------------- #\n",
    "# 2.  Sentiment model wrapper with major_label()                       #\n",
    "# -------------------------------------------------------------------- #\n",
    "class SentimentAnalyzer:\n",
    "    \"\"\"\n",
    "    Multilingual twitter-XLM-RoBERTa sentiment wrapper.\n",
    "    Provides polarity_scores() *and* major_label().\n",
    "    \"\"\"\n",
    "    def __init__(self):\n",
    "        mdl = \"cardiffnlp/twitter-xlm-roberta-base-sentiment\"       # 3-way (neg/neu/pos)\n",
    "        self._pipe = pipeline(\n",
    "            \"sentiment-analysis\",\n",
    "            model=mdl, tokenizer=mdl,\n",
    "            top_k=None                                              # returns all three scores  \n",
    "        )\n",
    "\n",
    "    # ---------- already supplied ----------\n",
    "    def polarity_scores(self, text: str):\n",
    "        res   = self._pipe(text)              # list[list[dict(label,score)]]\n",
    "        scores = {d[\"label\"]: d[\"score\"] for d in res[0]}\n",
    "        # compound = abs(scores.get(\"positive\", 0) - scores.get(\"negative\", 0))\n",
    "        return {\"neg\": scores.get(\"negative\", 0),\n",
    "                \"neu\": scores.get(\"neutral\",  0),\n",
    "                \"pos\": scores.get(\"positive\", 0),\n",
    "                # \"compound\": compound,\n",
    "                }\n",
    "\n",
    "    # ---------- new method ----------\n",
    "    def major_label(self, text: str):\n",
    "        \"\"\"\n",
    "        Returns (text_label, int_label) where int_label ∈ {−1,0,1}.\n",
    "        \"\"\"\n",
    "        sc   = self.polarity_scores(text)\n",
    "        best = max((\"neg\", \"neu\", \"pos\"), key=sc.get)           \n",
    "        text_label = {\"neg\": \"negative\", \"neu\": \"neutral\", \"pos\": \"positive\"}[best]\n",
    "        return text_label, {\"negative\": -1, \"neutral\": 0, \"positive\": 1}[text_label]\n",
    "\n",
    "analyzer = SentimentAnalyzer()"
   ]
  },
  {
   "cell_type": "code",
   "execution_count": null,
   "id": "d2f0634c",
   "metadata": {},
   "outputs": [
    {
     "name": "stderr",
     "output_type": "stream",
     "text": [
      "Device set to use cpu\n"
     ]
    },
    {
     "name": "stdout",
     "output_type": "stream",
     "text": [
      "{'mixed': 0.011259634047746658, 'negative': 0.0018209181725978851, 'neutral': 0.006787061225622892, 'positive': 0.9801324009895325}\n",
      "('positive', 1.0)\n"
     ]
    },
    {
     "name": "stderr",
     "output_type": "stream",
     "text": [
      "/Users/pelmeshek1706/Desktop/projects/phd_311_venv/lib/python3.11/site-packages/transformers/pipelines/text_classification.py:106: UserWarning: `return_all_scores` is now deprecated,  if want a similar functionality use `top_k=None` instead of `return_all_scores=True` or `top_k=1` instead of `return_all_scores=False`.\n",
      "  warnings.warn(\n"
     ]
    }
   ],
   "source": [
    "from transformers import RobertaConfig, RobertaForSequenceClassification, RobertaTokenizer, pipeline\n",
    "from huggingface_hub import hf_hub_download\n",
    "from safetensors.torch import load_file\n",
    "\n",
    "class UkrSentimentAnalyzer:\n",
    "    \"\"\"\n",
    "    Ukrainian sentiment analysis model based on YShynkarov/ukr-roberta-cosmus-sentiment.\n",
    "    Provides polarity_scores() and major_label().\n",
    "    \"\"\"\n",
    "    map_labels = {\n",
    "                'LABEL_0': 'mixed',\n",
    "                'LABEL_1': 'negative',\n",
    "                'LABEL_2': 'neutral',\n",
    "                'LABEL_3': 'positive',\n",
    "            }\n",
    "    int_label_map = {\n",
    "        \"negative\": -1.0,\n",
    "        \"neutral\": 0.0,\n",
    "        \"positive\": 1.0,\n",
    "        \"mixed\": 0\n",
    "    }\n",
    "\n",
    "    def __init__(self):\n",
    "        repo_id = \"YShynkarov/ukr-roberta-cosmus-sentiment\"\n",
    "        safetensor = hf_hub_download(repo_id=repo_id,\n",
    "                                     filename=\"ukrroberta_cosmus_sentiment.safetensors\")\n",
    "\n",
    "        config = RobertaConfig.from_pretrained(\"youscan/ukr-roberta-base\", num_labels=4)\n",
    "        tokenizer = RobertaTokenizer.from_pretrained(\"youscan/ukr-roberta-base\")\n",
    "\n",
    "        model = RobertaForSequenceClassification(config)\n",
    "        state_dict = load_file(safetensor)\n",
    "        model.load_state_dict(state_dict)\n",
    "        model.eval()\n",
    "        self._pipe = pipeline(\n",
    "            \"text-classification\",\n",
    "            model=model,\n",
    "            tokenizer=tokenizer,\n",
    "            device=-1,               \n",
    "            return_all_scores=True,\n",
    "            truncation=True,\n",
    "        )\n",
    "\n",
    "    def polarity_scores(self, text: str) -> dict:\n",
    "        \"\"\"\n",
    "        Returns dict:\n",
    "          {\n",
    "            \"negative\": float_score,\n",
    "            \"neutral\":  float_score,\n",
    "            \"positive\": float_score,\n",
    "            \"mixed\":    float_score\n",
    "          }\n",
    "        \"\"\"\n",
    "        # pipeline returns list[list[{\"label\":..., \"score\":...}, ...]]\n",
    "        results = self._pipe(text)\n",
    "        scores = {\n",
    "            self.map_labels[item[\"label\"]]: item[\"score\"]\n",
    "            for item in results[0]\n",
    "        }\n",
    "        return scores\n",
    "\n",
    "    def major_label(self, text: str) -> tuple[str, int]:\n",
    "        \"\"\"\n",
    "        Returns (text_label, int_label),\n",
    "        where int_label ∈ {-1,0,1,2} for negative, neutral, positive, mixed.\n",
    "        \"\"\"\n",
    "        scores = self.polarity_scores(text)\n",
    "        best = max(scores, key=scores.get)\n",
    "        return best, self.int_label_map[best]\n",
    "\n",
    "analyzer = UkrSentimentAnalyzer()\n",
    "print(analyzer.polarity_scores(\"Привіт! Все просто чудово\"))\n",
    "# → {'negative': 0.01, 'neutral': 0.05, 'positive': 0.90, 'mixed': 0.04}\n",
    "\n",
    "print(analyzer.major_label(\"Привіт! Все просто чудово\"))\n",
    "# → ('positive', 1)"
   ]
  },
  {
   "cell_type": "code",
   "execution_count": 54,
   "id": "e0ee8a0b",
   "metadata": {},
   "outputs": [
    {
     "name": "stderr",
     "output_type": "stream",
     "text": [
      "100%|██████████| 11616/11616 [12:04<00:00, 16.04it/s]\n"
     ]
    }
   ],
   "source": [
    "# -------------------------------------------------------------------- #\n",
    "# 3.  Inference → sentiment_pred column                                #\n",
    "# -------------------------------------------------------------------- #\n",
    "from tqdm import tqdm      # или просто `from tqdm import tqdm`\n",
    "tqdm.pandas()\n",
    "\n",
    "df[\"sentiment_pred_1epoch\"] = df[\"document_content\"].progress_apply(\n",
    "    lambda txt: analyzer.major_label(txt)[1]     # keep numeric only\n",
    ")"
   ]
  },
  {
   "cell_type": "code",
   "execution_count": 55,
   "id": "17cd3661",
   "metadata": {},
   "outputs": [
    {
     "data": {
      "text/html": [
       "<div>\n",
       "<style scoped>\n",
       "    .dataframe tbody tr th:only-of-type {\n",
       "        vertical-align: middle;\n",
       "    }\n",
       "\n",
       "    .dataframe tbody tr th {\n",
       "        vertical-align: top;\n",
       "    }\n",
       "\n",
       "    .dataframe thead th {\n",
       "        text-align: right;\n",
       "    }\n",
       "</style>\n",
       "<table border=\"1\" class=\"dataframe\">\n",
       "  <thead>\n",
       "    <tr style=\"text-align: right;\">\n",
       "      <th></th>\n",
       "      <th>document_content</th>\n",
       "      <th>annotator_sentiment</th>\n",
       "      <th>language</th>\n",
       "      <th>sentiment_pred_1epoch</th>\n",
       "    </tr>\n",
       "  </thead>\n",
       "  <tbody>\n",
       "    <tr>\n",
       "      <th>0</th>\n",
       "      <td>⚡️Українська делегація відправилася на перемов...</td>\n",
       "      <td>0</td>\n",
       "      <td>ua</td>\n",
       "      <td>1.0</td>\n",
       "    </tr>\n",
       "    <tr>\n",
       "      <th>1</th>\n",
       "      <td>Вибухи на Одещині, попередньо — ППО.</td>\n",
       "      <td>0</td>\n",
       "      <td>ua</td>\n",
       "      <td>0.0</td>\n",
       "    </tr>\n",
       "    <tr>\n",
       "      <th>2</th>\n",
       "      <td>А что делать тем ,кто лишился своего жилья ,по...</td>\n",
       "      <td>-1</td>\n",
       "      <td>ru</td>\n",
       "      <td>-1.0</td>\n",
       "    </tr>\n",
       "    <tr>\n",
       "      <th>3</th>\n",
       "      <td>Тогда учись быстро бегать. Для меня вопрос сло...</td>\n",
       "      <td>-1</td>\n",
       "      <td>ru</td>\n",
       "      <td>-1.0</td>\n",
       "    </tr>\n",
       "    <tr>\n",
       "      <th>4</th>\n",
       "      <td>Добрий день</td>\n",
       "      <td>0</td>\n",
       "      <td>ua</td>\n",
       "      <td>1.0</td>\n",
       "    </tr>\n",
       "    <tr>\n",
       "      <th>...</th>\n",
       "      <td>...</td>\n",
       "      <td>...</td>\n",
       "      <td>...</td>\n",
       "      <td>...</td>\n",
       "    </tr>\n",
       "    <tr>\n",
       "      <th>11611</th>\n",
       "      <td>У меня три окна и двери выбило , даже и не дум...</td>\n",
       "      <td>-1</td>\n",
       "      <td>ru</td>\n",
       "      <td>-1.0</td>\n",
       "    </tr>\n",
       "    <tr>\n",
       "      <th>11612</th>\n",
       "      <td>Краще \"повинна бути зручнішою, ніж Uber чи Boo...</td>\n",
       "      <td>-1</td>\n",
       "      <td>ua</td>\n",
       "      <td>1.0</td>\n",
       "    </tr>\n",
       "    <tr>\n",
       "      <th>11613</th>\n",
       "      <td>Питання, цей сертифікат можна вже використовув...</td>\n",
       "      <td>0</td>\n",
       "      <td>ua</td>\n",
       "      <td>0.0</td>\n",
       "    </tr>\n",
       "    <tr>\n",
       "      <th>11614</th>\n",
       "      <td>На Вугледарському напрямку загинув Рома Іванен...</td>\n",
       "      <td>-1</td>\n",
       "      <td>ua</td>\n",
       "      <td>1.0</td>\n",
       "    </tr>\n",
       "    <tr>\n",
       "      <th>11615</th>\n",
       "      <td>*_Управление «УКРАИНЫ» и «РФ» захвачено иудеям...</td>\n",
       "      <td>-1</td>\n",
       "      <td>mixed</td>\n",
       "      <td>-1.0</td>\n",
       "    </tr>\n",
       "  </tbody>\n",
       "</table>\n",
       "<p>11616 rows × 4 columns</p>\n",
       "</div>"
      ],
      "text/plain": [
       "                                        document_content  annotator_sentiment  \\\n",
       "0      ⚡️Українська делегація відправилася на перемов...                    0   \n",
       "1                   Вибухи на Одещині, попередньо — ППО.                    0   \n",
       "2      А что делать тем ,кто лишился своего жилья ,по...                   -1   \n",
       "3      Тогда учись быстро бегать. Для меня вопрос сло...                   -1   \n",
       "4                                            Добрий день                    0   \n",
       "...                                                  ...                  ...   \n",
       "11611  У меня три окна и двери выбило , даже и не дум...                   -1   \n",
       "11612  Краще \"повинна бути зручнішою, ніж Uber чи Boo...                   -1   \n",
       "11613  Питання, цей сертифікат можна вже використовув...                    0   \n",
       "11614  На Вугледарському напрямку загинув Рома Іванен...                   -1   \n",
       "11615  *_Управление «УКРАИНЫ» и «РФ» захвачено иудеям...                   -1   \n",
       "\n",
       "      language  sentiment_pred_1epoch  \n",
       "0           ua                    1.0  \n",
       "1           ua                    0.0  \n",
       "2           ru                   -1.0  \n",
       "3           ru                   -1.0  \n",
       "4           ua                    1.0  \n",
       "...        ...                    ...  \n",
       "11611       ru                   -1.0  \n",
       "11612       ua                    1.0  \n",
       "11613       ua                    0.0  \n",
       "11614       ua                    1.0  \n",
       "11615    mixed                   -1.0  \n",
       "\n",
       "[11616 rows x 4 columns]"
      ]
     },
     "execution_count": 55,
     "metadata": {},
     "output_type": "execute_result"
    }
   ],
   "source": [
    "df=df.dropna(subset=[\"annotator_sentiment\", 'sentiment_pred_1epoch'])\n",
    "df\n",
    "\n"
   ]
  },
  {
   "cell_type": "code",
   "execution_count": 56,
   "id": "9e6758db",
   "metadata": {},
   "outputs": [
    {
     "data": {
      "text/plain": [
       "sentiment_pred_1epoch\n",
       " 0.0    5764\n",
       "-1.0    3345\n",
       " 1.0    2507\n",
       "Name: count, dtype: int64"
      ]
     },
     "execution_count": 56,
     "metadata": {},
     "output_type": "execute_result"
    }
   ],
   "source": [
    "df[\"sentiment_pred_1epoch\"].value_counts()"
   ]
  },
  {
   "cell_type": "code",
   "execution_count": null,
   "id": "ee6d208a",
   "metadata": {},
   "outputs": [
    {
     "name": "stdout",
     "output_type": "stream",
     "text": [
      "Accuracy: 76.799%\n",
      "               precision    recall  f1-score   support\n",
      "\n",
      "negative (−1)       0.90      0.66      0.76      4541\n",
      "  neutral (0)       0.71      0.87      0.78      4702\n",
      "positive (+1)       0.73      0.77      0.75      2373\n",
      "\n",
      "     accuracy                           0.77     11616\n",
      "    macro avg       0.78      0.77      0.76     11616\n",
      " weighted avg       0.79      0.77      0.77     11616\n",
      "\n"
     ]
    }
   ],
   "source": [
    "# -------------------------------------------------------------------- #\n",
    "# 4.  Evaluation                                                       #\n",
    "# -------------------------------------------------------------------- #\n",
    "acc = accuracy_score(df[\"annotator_sentiment\"], df[\"sentiment_pred_1epoch\"])\n",
    "print(f\"Accuracy: {acc:.3%}\")\n",
    "\n",
    "print(classification_report(\n",
    "      df[\"annotator_sentiment\"], df[\"sentiment_pred_1epoch\"],\n",
    "      target_names=[\"negative (−1)\", \"neutral (0)\", \"positive (+1)\"]))\n"
   ]
  },
  {
   "cell_type": "markdown",
   "id": "8a971ee9",
   "metadata": {},
   "source": [
    "# Ukr -> Eng -> Sentiment by Vader (default sentiment in Openwillis)"
   ]
  },
  {
   "cell_type": "code",
   "execution_count": null,
   "id": "576f7992",
   "metadata": {},
   "outputs": [],
   "source": [
    "# uk2en_like_space.py\n",
    "import torch\n",
    "from transformers import AutoModelForCausalLM, AutoTokenizer\n",
    "\n",
    "MODEL_NAME = \"Yehor/kulyk-uk-en\"\n",
    "device = \"cuda\" if torch.cuda.is_available() else \"cpu\"\n",
    "torch_dtype = torch.bfloat16\n",
    "\n",
    "REVISION = None\n",
    "\n",
    "tokenizer = AutoTokenizer.from_pretrained(MODEL_NAME, revision=REVISION)\n",
    "model = AutoModelForCausalLM.from_pretrained(\n",
    "    MODEL_NAME,\n",
    "    device_map=device,\n",
    "    torch_dtype=torch_dtype,\n",
    "    revision=REVISION,\n",
    ")\n",
    "model.eval()\n",
    "\n",
    "def translate_like_space(text: str) -> str:\n",
    "    prompt = \"Translate the text to English:\\n\" + text \n",
    "    input_ids = tokenizer.apply_chat_template(\n",
    "        [{\"role\": \"user\", \"content\": prompt}],\n",
    "        add_generation_prompt=True,\n",
    "        return_tensors=\"pt\",\n",
    "        tokenize=True,\n",
    "    ).to(model.device)\n",
    "\n",
    "    with torch.inference_mode():\n",
    "        output = model.generate(\n",
    "            input_ids,\n",
    "            max_new_tokens=2048,\n",
    "            do_sample=False,              # greedy\n",
    "            repetition_penalty=1.05,     \n",
    "        )\n",
    "\n",
    "    gen = output[:, input_ids.shape[1]:]\n",
    "    return tokenizer.batch_decode(gen, skip_special_tokens=True)[0].strip()\n"
   ]
  },
  {
   "cell_type": "code",
   "execution_count": null,
   "id": "cca568d1",
   "metadata": {},
   "outputs": [],
   "source": [
    "\n",
    "uk = \"Над Україною збито ракету та 7 із 8 «Шахедів»\"\n",
    "print(translate_like_space(uk))"
   ]
  },
  {
   "cell_type": "code",
   "execution_count": null,
   "id": "a0007732",
   "metadata": {},
   "outputs": [],
   "source": [
    "from tqdm.auto import tqdm\n",
    "tqdm.pandas()\n",
    "\n",
    "df['translated_text'] = df['document_content'].progress_apply(translate_like_space)"
   ]
  },
  {
   "cell_type": "code",
   "execution_count": null,
   "id": "602261d3",
   "metadata": {},
   "outputs": [],
   "source": [
    "from vaderSentiment.vaderSentiment import SentimentIntensityAnalyzer\n",
    "\n",
    "analyzer = SentimentIntensityAnalyzer()\n",
    "\n",
    "def vader_label_by_max(text: str) -> int:\n",
    "    scores = analyzer.polarity_scores(text)\n",
    "    top = max(('neg', 'neu', 'pos'), key=lambda k: scores[k])\n",
    "    return {'neg': -1.0, 'neu': 0.0, 'pos': 1.0}[top]"
   ]
  },
  {
   "cell_type": "code",
   "execution_count": null,
   "id": "0d4b8355",
   "metadata": {},
   "outputs": [],
   "source": [
    "\n",
    "df['vader_analysis'] = df['translated_text'].apply(vader_label_by_max)\n"
   ]
  },
  {
   "cell_type": "code",
   "execution_count": null,
   "id": "098c1ca3",
   "metadata": {},
   "outputs": [],
   "source": [
    "df['vader_analysis'].value_counts()"
   ]
  },
  {
   "cell_type": "code",
   "execution_count": null,
   "id": "71c0cba3",
   "metadata": {},
   "outputs": [],
   "source": [
    "df[\"annotator_sentiment\"].value_counts()"
   ]
  },
  {
   "cell_type": "code",
   "execution_count": null,
   "id": "f8e58967",
   "metadata": {},
   "outputs": [],
   "source": [
    "# -------------------------------------------------------------------- #\n",
    "# 4.  Evaluation                                                       #\n",
    "# -------------------------------------------------------------------- #\n",
    "acc = accuracy_score(df[\"annotator_sentiment\"], df[\"vader_analysis\"])\n",
    "print(f\"Accuracy: {acc:.3%}\")\n",
    "\n",
    "print(classification_report(\n",
    "      df[\"annotator_sentiment\"], df[\"vader_analysis\"],\n",
    "      target_names=[\"negative (−1)\", \"neutral (0)\", \"positive (+1)\"]))\n"
   ]
  }
 ],
 "metadata": {
  "kernelspec": {
   "display_name": "3.10.12",
   "language": "python",
   "name": "python3"
  },
  "language_info": {
   "codemirror_mode": {
    "name": "ipython",
    "version": 3
   },
   "file_extension": ".py",
   "mimetype": "text/x-python",
   "name": "python",
   "nbconvert_exporter": "python",
   "pygments_lexer": "ipython3",
   "version": "3.10.12"
  }
 },
 "nbformat": 4,
 "nbformat_minor": 5
}
